{
  "cells": [
    {
      "cell_type": "markdown",
      "metadata": {
        "id": "view-in-github",
        "colab_type": "text"
      },
      "source": [
        "<a href=\"https://colab.research.google.com/github/PHimajasree/Task3/blob/main/chatbot.ipynb\" target=\"_parent\"><img src=\"https://colab.research.google.com/assets/colab-badge.svg\" alt=\"Open In Colab\"/></a>"
      ]
    },
    {
      "cell_type": "code",
      "execution_count": null,
      "metadata": {
        "colab": {
          "background_save": true,
          "base_uri": "https://localhost:8080/"
        },
        "id": "YEvjnAhUKnIA",
        "outputId": "5c58fe28-71d4-4c8a-a87d-efb70d2e2ef1"
      },
      "outputs": [
        {
          "output_type": "stream",
          "name": "stdout",
          "text": [
            "ChatBuddy: Hi! I am your chatbot. Type 'quit' to end the conversation.\n",
            "You: hello buddy\n",
            "ChatBuddy: Hi there! What's on your mind?\n",
            "You: How are you\n",
            "ChatBuddy: I'm just a program, but I'm here to make your day better! How about you?\n",
            "You: i am good\n",
            "ChatBuddy: I'm not sure I understand. Could you rephrase?\n",
            "You: exit\n",
            "ChatBuddy: I'm not sure I understand. Could you rephrase?\n"
          ]
        }
      ],
      "source": [
        "import nltk\n",
        "from nltk.chat.util import Chat, reflections\n",
        "\n",
        "# Define pairs for pattern-response matching\n",
        "pairs = [\n",
        "    (r\"hi|hello|hey\", [\"Hello! How can I assist you today?\", \"Hi there! What's on your mind?\"]),\n",
        "    (r\"what is your name?\", [\"I am a chatbot created with NLTK. You can call me ChatBuddy!\"]),\n",
        "    (r\"how are you?\", [\"I'm just a program, but I'm here to make your day better! How about you?\"]),\n",
        "    (r\"what do you do?\", [\"I chat with people to make their day a little more interesting.\"]),\n",
        "    (r\"tell me about (.*)\", [\"Sure! What would you like to know about %1?\"]),\n",
        "    (r\"quit\", [\"Goodbye! Have a great day!\"]),\n",
        "    (r\"(.*)\", [\"I'm not sure I understand. Could you rephrase?\"])\n",
        "]\n",
        "\n",
        "# Create chatbot instance\n",
        "chatbot = Chat(pairs, reflections)\n",
        "\n",
        "# Start chatting\n",
        "print(\"ChatBuddy: Hi! I am your chatbot. Type 'quit' to end the conversation.\")\n",
        "while True:\n",
        "    user_input = input(\"You: \").lower()\n",
        "    if user_input == \"quit\":\n",
        "        print(\"ChatBuddy: Goodbye! Have a great day!\")\n",
        "        break\n",
        "    response = chatbot.respond(user_input)\n",
        "    print(\"ChatBuddy:\", response)"
      ]
    }
  ],
  "metadata": {
    "colab": {
      "provenance": [],
      "authorship_tag": "ABX9TyOkfOHiQ0aG1vIFa2RKJEsF",
      "include_colab_link": true
    },
    "kernelspec": {
      "display_name": "Python 3",
      "name": "python3"
    },
    "language_info": {
      "name": "python"
    }
  },
  "nbformat": 4,
  "nbformat_minor": 0
}